{
 "cells": [
  {
   "cell_type": "markdown",
   "metadata": {},
   "source": [
    "Data Source : http://data.worldbank.org/data-catalog/world-development-indicators"
   ]
  },
  {
   "cell_type": "markdown",
   "metadata": {
    "collapsed": true
   },
   "source": [
    "References : https://www.safaribooksonline.com/library/view/ipython-notebook-essentials/9781783988341/ch04s04.html"
   ]
  },
  {
   "cell_type": "code",
   "execution_count": 21,
   "metadata": {
    "collapsed": false
   },
   "outputs": [
    {
     "name": "stdout",
     "output_type": "stream",
     "text": [
      "Populating the interactive namespace from numpy and matplotlib\n"
     ]
    }
   ],
   "source": [
    "import pandas as pd\n",
    "import matplotlib.pyplot as plt\n",
    "%pylab inline\n"
   ]
  },
  {
   "cell_type": "code",
   "execution_count": 46,
   "metadata": {
    "collapsed": false
   },
   "outputs": [],
   "source": [
    "wdi = pd.read_csv('WDI_Data.csv')"
   ]
  },
  {
   "cell_type": "code",
   "execution_count": 10,
   "metadata": {
    "collapsed": false
   },
   "outputs": [
    {
     "data": {
      "text/html": [
       "<div>\n",
       "<table border=\"1\" class=\"dataframe\">\n",
       "  <thead>\n",
       "    <tr style=\"text-align: right;\">\n",
       "      <th></th>\n",
       "      <th>Country Name</th>\n",
       "      <th>Country Code</th>\n",
       "      <th>Indicator Name</th>\n",
       "      <th>Indicator Code</th>\n",
       "      <th>1960</th>\n",
       "      <th>1961</th>\n",
       "      <th>1962</th>\n",
       "      <th>1963</th>\n",
       "      <th>1964</th>\n",
       "      <th>1965</th>\n",
       "      <th>...</th>\n",
       "      <th>2006</th>\n",
       "      <th>2007</th>\n",
       "      <th>2008</th>\n",
       "      <th>2009</th>\n",
       "      <th>2010</th>\n",
       "      <th>2011</th>\n",
       "      <th>2012</th>\n",
       "      <th>2013</th>\n",
       "      <th>2014</th>\n",
       "      <th>2015</th>\n",
       "    </tr>\n",
       "  </thead>\n",
       "  <tbody>\n",
       "    <tr>\n",
       "      <th>0</th>\n",
       "      <td>Arab World</td>\n",
       "      <td>ARB</td>\n",
       "      <td>2005 PPP conversion factor, GDP (LCU per inter...</td>\n",
       "      <td>PA.NUS.PPP.05</td>\n",
       "      <td>NaN</td>\n",
       "      <td>NaN</td>\n",
       "      <td>NaN</td>\n",
       "      <td>NaN</td>\n",
       "      <td>NaN</td>\n",
       "      <td>NaN</td>\n",
       "      <td>...</td>\n",
       "      <td>NaN</td>\n",
       "      <td>NaN</td>\n",
       "      <td>NaN</td>\n",
       "      <td>NaN</td>\n",
       "      <td>NaN</td>\n",
       "      <td>NaN</td>\n",
       "      <td>NaN</td>\n",
       "      <td>NaN</td>\n",
       "      <td>NaN</td>\n",
       "      <td>NaN</td>\n",
       "    </tr>\n",
       "    <tr>\n",
       "      <th>1</th>\n",
       "      <td>Arab World</td>\n",
       "      <td>ARB</td>\n",
       "      <td>2005 PPP conversion factor, private consumptio...</td>\n",
       "      <td>PA.NUS.PRVT.PP.05</td>\n",
       "      <td>NaN</td>\n",
       "      <td>NaN</td>\n",
       "      <td>NaN</td>\n",
       "      <td>NaN</td>\n",
       "      <td>NaN</td>\n",
       "      <td>NaN</td>\n",
       "      <td>...</td>\n",
       "      <td>NaN</td>\n",
       "      <td>NaN</td>\n",
       "      <td>NaN</td>\n",
       "      <td>NaN</td>\n",
       "      <td>NaN</td>\n",
       "      <td>NaN</td>\n",
       "      <td>NaN</td>\n",
       "      <td>NaN</td>\n",
       "      <td>NaN</td>\n",
       "      <td>NaN</td>\n",
       "    </tr>\n",
       "    <tr>\n",
       "      <th>2</th>\n",
       "      <td>Arab World</td>\n",
       "      <td>ARB</td>\n",
       "      <td>Access to electricity (% of population)</td>\n",
       "      <td>EG.ELC.ACCS.ZS</td>\n",
       "      <td>NaN</td>\n",
       "      <td>NaN</td>\n",
       "      <td>NaN</td>\n",
       "      <td>NaN</td>\n",
       "      <td>NaN</td>\n",
       "      <td>NaN</td>\n",
       "      <td>...</td>\n",
       "      <td>NaN</td>\n",
       "      <td>NaN</td>\n",
       "      <td>NaN</td>\n",
       "      <td>NaN</td>\n",
       "      <td>84.342225</td>\n",
       "      <td>NaN</td>\n",
       "      <td>86.270751</td>\n",
       "      <td>NaN</td>\n",
       "      <td>NaN</td>\n",
       "      <td>NaN</td>\n",
       "    </tr>\n",
       "    <tr>\n",
       "      <th>3</th>\n",
       "      <td>Arab World</td>\n",
       "      <td>ARB</td>\n",
       "      <td>Access to electricity, rural (% of rural popul...</td>\n",
       "      <td>EG.ELC.ACCS.RU.ZS</td>\n",
       "      <td>NaN</td>\n",
       "      <td>NaN</td>\n",
       "      <td>NaN</td>\n",
       "      <td>NaN</td>\n",
       "      <td>NaN</td>\n",
       "      <td>NaN</td>\n",
       "      <td>...</td>\n",
       "      <td>NaN</td>\n",
       "      <td>NaN</td>\n",
       "      <td>NaN</td>\n",
       "      <td>NaN</td>\n",
       "      <td>71.969903</td>\n",
       "      <td>NaN</td>\n",
       "      <td>73.909833</td>\n",
       "      <td>NaN</td>\n",
       "      <td>NaN</td>\n",
       "      <td>NaN</td>\n",
       "    </tr>\n",
       "    <tr>\n",
       "      <th>4</th>\n",
       "      <td>Arab World</td>\n",
       "      <td>ARB</td>\n",
       "      <td>Access to electricity, urban (% of urban popul...</td>\n",
       "      <td>EG.ELC.ACCS.UR.ZS</td>\n",
       "      <td>NaN</td>\n",
       "      <td>NaN</td>\n",
       "      <td>NaN</td>\n",
       "      <td>NaN</td>\n",
       "      <td>NaN</td>\n",
       "      <td>NaN</td>\n",
       "      <td>...</td>\n",
       "      <td>NaN</td>\n",
       "      <td>NaN</td>\n",
       "      <td>NaN</td>\n",
       "      <td>NaN</td>\n",
       "      <td>93.828463</td>\n",
       "      <td>NaN</td>\n",
       "      <td>95.151407</td>\n",
       "      <td>NaN</td>\n",
       "      <td>NaN</td>\n",
       "      <td>NaN</td>\n",
       "    </tr>\n",
       "    <tr>\n",
       "      <th>5</th>\n",
       "      <td>Arab World</td>\n",
       "      <td>ARB</td>\n",
       "      <td>Access to non-solid fuel (% of population)</td>\n",
       "      <td>EG.NSF.ACCS.ZS</td>\n",
       "      <td>NaN</td>\n",
       "      <td>NaN</td>\n",
       "      <td>NaN</td>\n",
       "      <td>NaN</td>\n",
       "      <td>NaN</td>\n",
       "      <td>NaN</td>\n",
       "      <td>...</td>\n",
       "      <td>NaN</td>\n",
       "      <td>NaN</td>\n",
       "      <td>NaN</td>\n",
       "      <td>NaN</td>\n",
       "      <td>86.003666</td>\n",
       "      <td>NaN</td>\n",
       "      <td>86.585206</td>\n",
       "      <td>NaN</td>\n",
       "      <td>NaN</td>\n",
       "      <td>NaN</td>\n",
       "    </tr>\n",
       "  </tbody>\n",
       "</table>\n",
       "<p>6 rows × 60 columns</p>\n",
       "</div>"
      ],
      "text/plain": [
       "  Country Name Country Code  \\\n",
       "0   Arab World          ARB   \n",
       "1   Arab World          ARB   \n",
       "2   Arab World          ARB   \n",
       "3   Arab World          ARB   \n",
       "4   Arab World          ARB   \n",
       "5   Arab World          ARB   \n",
       "\n",
       "                                      Indicator Name     Indicator Code  1960  \\\n",
       "0  2005 PPP conversion factor, GDP (LCU per inter...      PA.NUS.PPP.05   NaN   \n",
       "1  2005 PPP conversion factor, private consumptio...  PA.NUS.PRVT.PP.05   NaN   \n",
       "2            Access to electricity (% of population)     EG.ELC.ACCS.ZS   NaN   \n",
       "3  Access to electricity, rural (% of rural popul...  EG.ELC.ACCS.RU.ZS   NaN   \n",
       "4  Access to electricity, urban (% of urban popul...  EG.ELC.ACCS.UR.ZS   NaN   \n",
       "5         Access to non-solid fuel (% of population)     EG.NSF.ACCS.ZS   NaN   \n",
       "\n",
       "   1961  1962  1963  1964  1965  ...   2006  2007  2008  2009       2010  \\\n",
       "0   NaN   NaN   NaN   NaN   NaN  ...    NaN   NaN   NaN   NaN        NaN   \n",
       "1   NaN   NaN   NaN   NaN   NaN  ...    NaN   NaN   NaN   NaN        NaN   \n",
       "2   NaN   NaN   NaN   NaN   NaN  ...    NaN   NaN   NaN   NaN  84.342225   \n",
       "3   NaN   NaN   NaN   NaN   NaN  ...    NaN   NaN   NaN   NaN  71.969903   \n",
       "4   NaN   NaN   NaN   NaN   NaN  ...    NaN   NaN   NaN   NaN  93.828463   \n",
       "5   NaN   NaN   NaN   NaN   NaN  ...    NaN   NaN   NaN   NaN  86.003666   \n",
       "\n",
       "   2011       2012  2013  2014  2015  \n",
       "0   NaN        NaN   NaN   NaN   NaN  \n",
       "1   NaN        NaN   NaN   NaN   NaN  \n",
       "2   NaN  86.270751   NaN   NaN   NaN  \n",
       "3   NaN  73.909833   NaN   NaN   NaN  \n",
       "4   NaN  95.151407   NaN   NaN   NaN  \n",
       "5   NaN  86.585206   NaN   NaN   NaN  \n",
       "\n",
       "[6 rows x 60 columns]"
      ]
     },
     "execution_count": 10,
     "metadata": {},
     "output_type": "execute_result"
    }
   ],
   "source": [
    "wdi.loc[:5]"
   ]
  },
  {
   "cell_type": "markdown",
   "metadata": {},
   "source": [
    "<b>To see how many countries are represented, run the following command line:</b>"
   ]
  },
  {
   "cell_type": "code",
   "execution_count": 23,
   "metadata": {
    "collapsed": false
   },
   "outputs": [],
   "source": [
    "countries = wdi.loc[:,'Country Name'].unique()"
   ]
  },
  {
   "cell_type": "code",
   "execution_count": 7,
   "metadata": {
    "collapsed": false
   },
   "outputs": [
    {
     "data": {
      "text/plain": [
       "248"
      ]
     },
     "execution_count": 7,
     "metadata": {},
     "output_type": "execute_result"
    }
   ],
   "source": [
    "len(countries)"
   ]
  },
  {
   "cell_type": "markdown",
   "metadata": {},
   "source": [
    "<b>There are more than 1300 different economic indicators in the file. This can be verified by running the following command line:</b>"
   ]
  },
  {
   "cell_type": "code",
   "execution_count": 24,
   "metadata": {
    "collapsed": true
   },
   "outputs": [],
   "source": [
    "indicators = wdi.loc[:,'Indicator Code'].unique()"
   ]
  },
  {
   "cell_type": "code",
   "execution_count": 25,
   "metadata": {
    "collapsed": false
   },
   "outputs": [
    {
     "data": {
      "text/plain": [
       "1345"
      ]
     },
     "execution_count": 25,
     "metadata": {},
     "output_type": "execute_result"
    }
   ],
   "source": [
    "len(indicators)"
   ]
  },
  {
   "cell_type": "markdown",
   "metadata": {},
   "source": [
    "To show the different kinds of computation one might be interested in performing, let's consider a single country, for example, Brazil. Let's also suppose that we are only interested on the Gross Domestic Product (GDP) information. Now, we'll see how to select the data we are interested in from the table. To make the example simpler, we will perform the selection in two steps. First, we select all rows for the country name Brazil, using the following command line:"
   ]
  },
  {
   "cell_type": "code",
   "execution_count": 26,
   "metadata": {
    "collapsed": false
   },
   "outputs": [],
   "source": [
    "wdi_br = wdi.loc[wdi.loc[:,'Country Name']=='Brazil',:]"
   ]
  },
  {
   "cell_type": "code",
   "execution_count": 27,
   "metadata": {
    "collapsed": true
   },
   "outputs": [],
   "source": [
    "select_fcn = lambda string: string.upper().find('GDP') >= 0"
   ]
  },
  {
   "cell_type": "code",
   "execution_count": 28,
   "metadata": {
    "collapsed": true
   },
   "outputs": [],
   "source": [
    "criterion = wdi_br.loc[:,'Indicator Code'].map(select_fcn)"
   ]
  },
  {
   "cell_type": "code",
   "execution_count": 29,
   "metadata": {
    "collapsed": false
   },
   "outputs": [],
   "source": [
    "wdi_br_gdp = wdi_br.loc[criterion,:]"
   ]
  },
  {
   "cell_type": "code",
   "execution_count": 30,
   "metadata": {
    "collapsed": false
   },
   "outputs": [
    {
     "data": {
      "text/plain": [
       "32"
      ]
     },
     "execution_count": 30,
     "metadata": {},
     "output_type": "execute_result"
    }
   ],
   "source": [
    "len(wdi_br_gdp)"
   ]
  },
  {
   "cell_type": "markdown",
   "metadata": {},
   "source": [
    "This means that there are 32 GDP-related indicators for the country named Brazil."
   ]
  },
  {
   "cell_type": "code",
   "execution_count": 31,
   "metadata": {
    "collapsed": false
   },
   "outputs": [
    {
     "data": {
      "text/html": [
       "<div>\n",
       "<table border=\"1\" class=\"dataframe\">\n",
       "  <thead>\n",
       "    <tr style=\"text-align: right;\">\n",
       "      <th></th>\n",
       "      <th>Indicator Code</th>\n",
       "      <th>Indicator Name</th>\n",
       "    </tr>\n",
       "  </thead>\n",
       "  <tbody>\n",
       "    <tr>\n",
       "      <th>80904</th>\n",
       "      <td>NY.GDP.COAL.RT.ZS</td>\n",
       "      <td>Coal rents (% of GDP)</td>\n",
       "    </tr>\n",
       "    <tr>\n",
       "      <th>81009</th>\n",
       "      <td>NY.GDP.DISC.KN</td>\n",
       "      <td>Discrepancy in expenditure estimate of GDP (co...</td>\n",
       "    </tr>\n",
       "    <tr>\n",
       "      <th>81010</th>\n",
       "      <td>NY.GDP.DISC.CN</td>\n",
       "      <td>Discrepancy in expenditure estimate of GDP (cu...</td>\n",
       "    </tr>\n",
       "    <tr>\n",
       "      <th>81137</th>\n",
       "      <td>NY.GDP.FRST.RT.ZS</td>\n",
       "      <td>Forest rents (% of GDP)</td>\n",
       "    </tr>\n",
       "    <tr>\n",
       "      <th>81141</th>\n",
       "      <td>NY.GDP.MKTP.KN</td>\n",
       "      <td>GDP (constant LCU)</td>\n",
       "    </tr>\n",
       "    <tr>\n",
       "      <th>81142</th>\n",
       "      <td>NY.GDP.MKTP.CN</td>\n",
       "      <td>GDP (current LCU)</td>\n",
       "    </tr>\n",
       "    <tr>\n",
       "      <th>81143</th>\n",
       "      <td>NY.GDP.MKTP.KD</td>\n",
       "      <td>GDP at market prices (constant 2005 US$)</td>\n",
       "    </tr>\n",
       "    <tr>\n",
       "      <th>81144</th>\n",
       "      <td>NY.GDP.MKTP.CD</td>\n",
       "      <td>GDP at market prices (current US$)</td>\n",
       "    </tr>\n",
       "    <tr>\n",
       "      <th>81145</th>\n",
       "      <td>NY.GDP.DEFL.ZS</td>\n",
       "      <td>GDP deflator (base year varies by country)</td>\n",
       "    </tr>\n",
       "    <tr>\n",
       "      <th>81146</th>\n",
       "      <td>NY.GDP.MKTP.KD.ZG</td>\n",
       "      <td>GDP growth (annual %)</td>\n",
       "    </tr>\n",
       "    <tr>\n",
       "      <th>81147</th>\n",
       "      <td>NY.GDP.PCAP.KD</td>\n",
       "      <td>GDP per capita (constant 2005 US$)</td>\n",
       "    </tr>\n",
       "    <tr>\n",
       "      <th>81148</th>\n",
       "      <td>NY.GDP.PCAP.KN</td>\n",
       "      <td>GDP per capita (constant LCU)</td>\n",
       "    </tr>\n",
       "    <tr>\n",
       "      <th>81149</th>\n",
       "      <td>NY.GDP.PCAP.CN</td>\n",
       "      <td>GDP per capita (current LCU)</td>\n",
       "    </tr>\n",
       "    <tr>\n",
       "      <th>81150</th>\n",
       "      <td>NY.GDP.PCAP.CD</td>\n",
       "      <td>GDP per capita (current US$)</td>\n",
       "    </tr>\n",
       "    <tr>\n",
       "      <th>81151</th>\n",
       "      <td>NY.GDP.PCAP.KD.ZG</td>\n",
       "      <td>GDP per capita growth (annual %)</td>\n",
       "    </tr>\n",
       "    <tr>\n",
       "      <th>81152</th>\n",
       "      <td>NY.GDP.PCAP.PP.KD</td>\n",
       "      <td>GDP per capita, PPP (constant 2011 internation...</td>\n",
       "    </tr>\n",
       "    <tr>\n",
       "      <th>81153</th>\n",
       "      <td>NY.GDP.PCAP.PP.CD</td>\n",
       "      <td>GDP per capita, PPP (current international $)</td>\n",
       "    </tr>\n",
       "    <tr>\n",
       "      <th>81154</th>\n",
       "      <td>SL.GDP.PCAP.EM.KD</td>\n",
       "      <td>GDP per person employed (constant 1990 PPP $)</td>\n",
       "    </tr>\n",
       "    <tr>\n",
       "      <th>81155</th>\n",
       "      <td>EG.GDP.PUSE.KO.PP.KD</td>\n",
       "      <td>GDP per unit of energy use (constant 2011 PPP ...</td>\n",
       "    </tr>\n",
       "    <tr>\n",
       "      <th>81156</th>\n",
       "      <td>EG.GDP.PUSE.KO.PP</td>\n",
       "      <td>GDP per unit of energy use (PPP $ per kg of oi...</td>\n",
       "    </tr>\n",
       "    <tr>\n",
       "      <th>81157</th>\n",
       "      <td>NY.GDP.MKTP.PP.KD</td>\n",
       "      <td>GDP, PPP (constant 2011 international $)</td>\n",
       "    </tr>\n",
       "    <tr>\n",
       "      <th>81158</th>\n",
       "      <td>NY.GDP.MKTP.PP.CD</td>\n",
       "      <td>GDP, PPP (current international $)</td>\n",
       "    </tr>\n",
       "    <tr>\n",
       "      <th>81243</th>\n",
       "      <td>NY.GDP.FCST.KD</td>\n",
       "      <td>Gross value added at factor cost (constant 200...</td>\n",
       "    </tr>\n",
       "    <tr>\n",
       "      <th>81244</th>\n",
       "      <td>NY.GDP.FCST.KN</td>\n",
       "      <td>Gross value added at factor cost (constant LCU)</td>\n",
       "    </tr>\n",
       "    <tr>\n",
       "      <th>81245</th>\n",
       "      <td>NY.GDP.FCST.CN</td>\n",
       "      <td>Gross value added at factor cost (current LCU)</td>\n",
       "    </tr>\n",
       "    <tr>\n",
       "      <th>81246</th>\n",
       "      <td>NY.GDP.FCST.CD</td>\n",
       "      <td>Gross value added at factor cost (current US$)</td>\n",
       "    </tr>\n",
       "    <tr>\n",
       "      <th>81319</th>\n",
       "      <td>NY.GDP.DEFL.KD.ZG</td>\n",
       "      <td>Inflation, GDP deflator (annual %)</td>\n",
       "    </tr>\n",
       "    <tr>\n",
       "      <th>81469</th>\n",
       "      <td>NY.GDP.MINR.RT.ZS</td>\n",
       "      <td>Mineral rents (% of GDP)</td>\n",
       "    </tr>\n",
       "    <tr>\n",
       "      <th>81489</th>\n",
       "      <td>NY.GDP.NGAS.RT.ZS</td>\n",
       "      <td>Natural gas rents (% of GDP)</td>\n",
       "    </tr>\n",
       "    <tr>\n",
       "      <th>81611</th>\n",
       "      <td>NY.GDP.PETR.RT.ZS</td>\n",
       "      <td>Oil rents (% of GDP)</td>\n",
       "    </tr>\n",
       "    <tr>\n",
       "      <th>81970</th>\n",
       "      <td>NY.GDP.TOTL.RT.ZS</td>\n",
       "      <td>Total natural resources rents (% of GDP)</td>\n",
       "    </tr>\n",
       "    <tr>\n",
       "      <th>82032</th>\n",
       "      <td>ER.GDP.FWTL.M3.KD</td>\n",
       "      <td>Water productivity, total (constant 2005 US$ G...</td>\n",
       "    </tr>\n",
       "  </tbody>\n",
       "</table>\n",
       "</div>"
      ],
      "text/plain": [
       "             Indicator Code                                     Indicator Name\n",
       "80904     NY.GDP.COAL.RT.ZS                              Coal rents (% of GDP)\n",
       "81009        NY.GDP.DISC.KN  Discrepancy in expenditure estimate of GDP (co...\n",
       "81010        NY.GDP.DISC.CN  Discrepancy in expenditure estimate of GDP (cu...\n",
       "81137     NY.GDP.FRST.RT.ZS                            Forest rents (% of GDP)\n",
       "81141        NY.GDP.MKTP.KN                                 GDP (constant LCU)\n",
       "81142        NY.GDP.MKTP.CN                                  GDP (current LCU)\n",
       "81143        NY.GDP.MKTP.KD           GDP at market prices (constant 2005 US$)\n",
       "81144        NY.GDP.MKTP.CD                 GDP at market prices (current US$)\n",
       "81145        NY.GDP.DEFL.ZS         GDP deflator (base year varies by country)\n",
       "81146     NY.GDP.MKTP.KD.ZG                              GDP growth (annual %)\n",
       "81147        NY.GDP.PCAP.KD                 GDP per capita (constant 2005 US$)\n",
       "81148        NY.GDP.PCAP.KN                      GDP per capita (constant LCU)\n",
       "81149        NY.GDP.PCAP.CN                       GDP per capita (current LCU)\n",
       "81150        NY.GDP.PCAP.CD                       GDP per capita (current US$)\n",
       "81151     NY.GDP.PCAP.KD.ZG                   GDP per capita growth (annual %)\n",
       "81152     NY.GDP.PCAP.PP.KD  GDP per capita, PPP (constant 2011 internation...\n",
       "81153     NY.GDP.PCAP.PP.CD      GDP per capita, PPP (current international $)\n",
       "81154     SL.GDP.PCAP.EM.KD      GDP per person employed (constant 1990 PPP $)\n",
       "81155  EG.GDP.PUSE.KO.PP.KD  GDP per unit of energy use (constant 2011 PPP ...\n",
       "81156     EG.GDP.PUSE.KO.PP  GDP per unit of energy use (PPP $ per kg of oi...\n",
       "81157     NY.GDP.MKTP.PP.KD           GDP, PPP (constant 2011 international $)\n",
       "81158     NY.GDP.MKTP.PP.CD                 GDP, PPP (current international $)\n",
       "81243        NY.GDP.FCST.KD  Gross value added at factor cost (constant 200...\n",
       "81244        NY.GDP.FCST.KN    Gross value added at factor cost (constant LCU)\n",
       "81245        NY.GDP.FCST.CN     Gross value added at factor cost (current LCU)\n",
       "81246        NY.GDP.FCST.CD     Gross value added at factor cost (current US$)\n",
       "81319     NY.GDP.DEFL.KD.ZG                 Inflation, GDP deflator (annual %)\n",
       "81469     NY.GDP.MINR.RT.ZS                           Mineral rents (% of GDP)\n",
       "81489     NY.GDP.NGAS.RT.ZS                       Natural gas rents (% of GDP)\n",
       "81611     NY.GDP.PETR.RT.ZS                               Oil rents (% of GDP)\n",
       "81970     NY.GDP.TOTL.RT.ZS           Total natural resources rents (% of GDP)\n",
       "82032     ER.GDP.FWTL.M3.KD  Water productivity, total (constant 2005 US$ G..."
      ]
     },
     "execution_count": 31,
     "metadata": {},
     "output_type": "execute_result"
    }
   ],
   "source": [
    "wdi_br_gdp.loc[:,['Indicator Code', 'Indicator Name']]"
   ]
  },
  {
   "cell_type": "markdown",
   "metadata": {},
   "source": [
    "The indicator and corresponding names for Brazil "
   ]
  },
  {
   "cell_type": "markdown",
   "metadata": {},
   "source": [
    "<b>we are interested only in four indicators: the GDP, annual GDP growth, GDP per capita, and GDP per capita growth. We can further trim the data with the following command</b>"
   ]
  },
  {
   "cell_type": "code",
   "execution_count": 32,
   "metadata": {
    "collapsed": false
   },
   "outputs": [
    {
     "data": {
      "text/html": [
       "<div>\n",
       "<table border=\"1\" class=\"dataframe\">\n",
       "  <thead>\n",
       "    <tr style=\"text-align: right;\">\n",
       "      <th></th>\n",
       "      <th>Country Name</th>\n",
       "      <th>Country Code</th>\n",
       "      <th>Indicator Name</th>\n",
       "      <th>Indicator Code</th>\n",
       "      <th>1960</th>\n",
       "      <th>1961</th>\n",
       "      <th>1962</th>\n",
       "      <th>1963</th>\n",
       "      <th>1964</th>\n",
       "      <th>1965</th>\n",
       "      <th>...</th>\n",
       "      <th>2006</th>\n",
       "      <th>2007</th>\n",
       "      <th>2008</th>\n",
       "      <th>2009</th>\n",
       "      <th>2010</th>\n",
       "      <th>2011</th>\n",
       "      <th>2012</th>\n",
       "      <th>2013</th>\n",
       "      <th>2014</th>\n",
       "      <th>2015</th>\n",
       "    </tr>\n",
       "  </thead>\n",
       "  <tbody>\n",
       "    <tr>\n",
       "      <th>81146</th>\n",
       "      <td>Brazil</td>\n",
       "      <td>BRA</td>\n",
       "      <td>GDP growth (annual %)</td>\n",
       "      <td>NY.GDP.MKTP.KD.ZG</td>\n",
       "      <td>NaN</td>\n",
       "      <td>10.275912</td>\n",
       "      <td>5.216059</td>\n",
       "      <td>0.874673</td>\n",
       "      <td>3.485582</td>\n",
       "      <td>3.053488</td>\n",
       "      <td>...</td>\n",
       "      <td>3.999324</td>\n",
       "      <td>6.005802</td>\n",
       "      <td>5.019316</td>\n",
       "      <td>-0.235978</td>\n",
       "      <td>7.572067</td>\n",
       "      <td>3.916382</td>\n",
       "      <td>1.762489</td>\n",
       "      <td>2.743697</td>\n",
       "      <td>0.144707</td>\n",
       "      <td>NaN</td>\n",
       "    </tr>\n",
       "    <tr>\n",
       "      <th>81150</th>\n",
       "      <td>Brazil</td>\n",
       "      <td>BRA</td>\n",
       "      <td>GDP per capita (current US$)</td>\n",
       "      <td>NY.GDP.PCAP.CD</td>\n",
       "      <td>209.198785</td>\n",
       "      <td>203.955154</td>\n",
       "      <td>258.757669</td>\n",
       "      <td>290.058284</td>\n",
       "      <td>259.466969</td>\n",
       "      <td>259.004152</td>\n",
       "      <td>...</td>\n",
       "      <td>5809.189096</td>\n",
       "      <td>7240.923983</td>\n",
       "      <td>8700.455202</td>\n",
       "      <td>8462.508346</td>\n",
       "      <td>11124.245780</td>\n",
       "      <td>13042.421933</td>\n",
       "      <td>11922.513058</td>\n",
       "      <td>11711.004405</td>\n",
       "      <td>11384.415010</td>\n",
       "      <td>NaN</td>\n",
       "    </tr>\n",
       "    <tr>\n",
       "      <th>81151</th>\n",
       "      <td>Brazil</td>\n",
       "      <td>BRA</td>\n",
       "      <td>GDP per capita growth (annual %)</td>\n",
       "      <td>NY.GDP.PCAP.KD.ZG</td>\n",
       "      <td>NaN</td>\n",
       "      <td>7.008823</td>\n",
       "      <td>2.072647</td>\n",
       "      <td>-2.125958</td>\n",
       "      <td>0.468618</td>\n",
       "      <td>0.140286</td>\n",
       "      <td>...</td>\n",
       "      <td>2.789168</td>\n",
       "      <td>4.858626</td>\n",
       "      <td>3.948915</td>\n",
       "      <td>-1.215658</td>\n",
       "      <td>6.536010</td>\n",
       "      <td>2.929975</td>\n",
       "      <td>0.815260</td>\n",
       "      <td>1.809216</td>\n",
       "      <td>-0.739013</td>\n",
       "      <td>NaN</td>\n",
       "    </tr>\n",
       "  </tbody>\n",
       "</table>\n",
       "<p>3 rows × 60 columns</p>\n",
       "</div>"
      ],
      "text/plain": [
       "      Country Name Country Code                    Indicator Name  \\\n",
       "81146       Brazil          BRA             GDP growth (annual %)   \n",
       "81150       Brazil          BRA      GDP per capita (current US$)   \n",
       "81151       Brazil          BRA  GDP per capita growth (annual %)   \n",
       "\n",
       "          Indicator Code        1960        1961        1962        1963  \\\n",
       "81146  NY.GDP.MKTP.KD.ZG         NaN   10.275912    5.216059    0.874673   \n",
       "81150     NY.GDP.PCAP.CD  209.198785  203.955154  258.757669  290.058284   \n",
       "81151  NY.GDP.PCAP.KD.ZG         NaN    7.008823    2.072647   -2.125958   \n",
       "\n",
       "             1964        1965  ...          2006         2007         2008  \\\n",
       "81146    3.485582    3.053488  ...      3.999324     6.005802     5.019316   \n",
       "81150  259.466969  259.004152  ...   5809.189096  7240.923983  8700.455202   \n",
       "81151    0.468618    0.140286  ...      2.789168     4.858626     3.948915   \n",
       "\n",
       "              2009          2010          2011          2012          2013  \\\n",
       "81146    -0.235978      7.572067      3.916382      1.762489      2.743697   \n",
       "81150  8462.508346  11124.245780  13042.421933  11922.513058  11711.004405   \n",
       "81151    -1.215658      6.536010      2.929975      0.815260      1.809216   \n",
       "\n",
       "               2014  2015  \n",
       "81146      0.144707   NaN  \n",
       "81150  11384.415010   NaN  \n",
       "81151     -0.739013   NaN  \n",
       "\n",
       "[3 rows x 60 columns]"
      ]
     },
     "execution_count": 32,
     "metadata": {},
     "output_type": "execute_result"
    }
   ],
   "source": [
    "wdi_br_gdp.loc[[81146, 81150, 81151], :]"
   ]
  },
  {
   "cell_type": "markdown",
   "metadata": {},
   "source": [
    "We want the indexes of our table to be the years. We also want to have one column for each economic indicator and want to use the economic indicator names (not the codes) as the labels of the columns.  To define DataFrame, pd is added. See also : http://stackoverflow.com/questions/13784192/creating-an-empty-pandas-dataframe-then-filling-it"
   ]
  },
  {
   "cell_type": "code",
   "execution_count": 33,
   "metadata": {
    "collapsed": false
   },
   "outputs": [],
   "source": [
    "idx = wdi_br_gdp.loc[:,'1965':].columns\n",
    "cols = wdi_br_gdp.loc[:,'Indicator Name']\n",
    "data = wdi_br_gdp.loc[:,'1965':].as_matrix()\n",
    "wdi_br_gdp = pd.DataFrame(data.transpose(), columns=cols, index=idx)"
   ]
  },
  {
   "cell_type": "markdown",
   "metadata": {},
   "source": [
    "Save the subset of data to CSV file"
   ]
  },
  {
   "cell_type": "markdown",
   "metadata": {},
   "source": [
    "<b>Saving to a CSV</b>\n",
    "\n",
    "<p>It's slow and unnecessary to download the data every time, so let's save our dataframe for later use!</p>\n"
   ]
  },
  {
   "cell_type": "code",
   "execution_count": 12,
   "metadata": {
    "collapsed": true
   },
   "outputs": [],
   "source": [
    "wdi_br_gdp.to_csv('wdi_br_gdp.csv')"
   ]
  },
  {
   "cell_type": "code",
   "execution_count": 22,
   "metadata": {
    "collapsed": false
   },
   "outputs": [],
   "source": [
    "wdi_br_gdp.to_csv('WDI_Brazil_GDP.csv')"
   ]
  },
  {
   "cell_type": "code",
   "execution_count": 34,
   "metadata": {
    "collapsed": false
   },
   "outputs": [
    {
     "data": {
      "text/plain": [
       "<matplotlib.axes._subplots.AxesSubplot at 0x1b475be0>"
      ]
     },
     "execution_count": 34,
     "metadata": {},
     "output_type": "execute_result"
    },
    {
     "data": {
      "image/png": "[encoded data removed]",
      "text/plain": [
       "<matplotlib.figure.Figure at 0x1b461f98>"
      ]
     },
     "metadata": {},
     "output_type": "display_data"
    }
   ],
   "source": [
    "pdata = wdi_br_gdp.ix['1970':, 0] / 1E9\n",
    "pdata.plot(color='DarkRed', lw=2, \n",
    "           title='Brazil GDP, billions of current US$')"
   ]
  },
  {
   "cell_type": "code",
   "execution_count": 35,
   "metadata": {
    "collapsed": false
   },
   "outputs": [
    {
     "data": {
      "text/plain": [
       "<matplotlib.axes._subplots.AxesSubplot at 0x120df320>"
      ]
     },
     "execution_count": 35,
     "metadata": {},
     "output_type": "execute_result"
    },
    {
     "data": {
      "image/png": "[encoded data removed]",
      "text/plain": [
       "<matplotlib.figure.Figure at 0x120f4978>"
      ]
     },
     "metadata": {},
     "output_type": "display_data"
    }
   ],
   "source": [
    "pdata = wdi_br_gdp.ix['1970':, 0] / 1E9\n",
    "pdata.plot(color='DarkRed', lw=2, \n",
    "           title='Brazil GDP, billions of current US$')"
   ]
  },
  {
   "cell_type": "code",
   "execution_count": 16,
   "metadata": {
    "collapsed": false
   },
   "outputs": [
    {
     "data": {
      "text/plain": [
       "<matplotlib.axes._subplots.AxesSubplot at 0x12aed400>"
      ]
     },
     "execution_count": 16,
     "metadata": {},
     "output_type": "execute_result"
    },
    {
     "data": {
      "image/png": "[encoded data removed]",
      "text/plain": [
       "<matplotlib.figure.Figure at 0x19756b38>"
      ]
     },
     "metadata": {},
     "output_type": "display_data"
    }
   ],
   "source": [
    "pdata = wdi_br_gdp.ix['1965':, 0] / 1E9\n",
    "pdata.plot(color='DarkRed', lw=2, \n",
    "           title='Brazil GDP, billions of current USD')"
   ]
  },
  {
   "cell_type": "code",
   "execution_count": 49,
   "metadata": {
    "collapsed": true
   },
   "outputs": [],
   "source": [
    "bric_countries = ['Brazil', 'China', 'India', 'Russian Federation']\n",
    "gdp_code = 'NY.GDP.PCAP.KD.ZG'\n",
    "selection_fct = lambda s: s in bric_countries\n",
    "criterion = wdi.loc[:,'Country Name'].map(selection_fct)\n",
    "wdi_bric = wdi.loc[criterion & (wdi.loc[:,'Indicator Code'] == gdp_code),:]"
   ]
  },
  {
   "cell_type": "code",
   "execution_count": 58,
   "metadata": {
    "collapsed": false
   },
   "outputs": [],
   "source": [
    "df_temp = wdi_bric.loc[:, '2000':'2010']\n",
    "idx = df_temp.columns\n",
    "cols = wdi_bric.loc[:, 'Country Name']\n",
    "data = df_temp.as_matrix()\n",
    "bric_gdp = pd.DataFrame(data.transpose(), columns=cols, index=idx)"
   ]
  },
  {
   "cell_type": "code",
   "execution_count": 59,
   "metadata": {
    "collapsed": false
   },
   "outputs": [
    {
     "data": {
      "text/plain": [
       "<matplotlib.axes._subplots.AxesSubplot at 0x1c06d550>"
      ]
     },
     "execution_count": 59,
     "metadata": {},
     "output_type": "execute_result"
    },
    {
     "data": {
      "image/png": "[encoded data removed]",
      "text/plain": [
       "<matplotlib.figure.Figure at 0x11b69320>"
      ]
     },
     "metadata": {},
     "output_type": "display_data"
    }
   ],
   "source": [
    "bric_gdp.plot(lw=2.5,\n",
    "              title='Annual per capita GDP growth (%)')"
   ]
  },
  {
   "cell_type": "markdown",
   "metadata": {},
   "source": [
    "Environment set-up "
   ]
  },
  {
   "cell_type": "code",
   "execution_count": 1,
   "metadata": {
    "collapsed": false
   },
   "outputs": [
    {
     "data": {
      "text/plain": [
       "{'ALLUSERSPROFILE': 'C:\\\\ProgramData',\n",
       " 'APPDATA': 'C:\\\\Users\\\\mryapss\\\\AppData\\\\Roaming',\n",
       " 'CLICOLOR': '1',\n",
       " 'COMMONPROGRAMFILES': 'C:\\\\Program Files\\\\Common Files',\n",
       " 'COMMONPROGRAMFILES(X86)': 'C:\\\\Program Files (x86)\\\\Common Files',\n",
       " 'COMMONPROGRAMW6432': 'C:\\\\Program Files\\\\Common Files',\n",
       " 'COMPUTERNAME': 'MRYAP',\n",
       " 'COMSPEC': 'C:\\\\Windows\\\\system32\\\\cmd.exe',\n",
       " 'FP_NO_HOST_CHECK': 'NO',\n",
       " 'GIT_PAGER': 'cat',\n",
       " 'HOMEDRIVE': 'C:',\n",
       " 'HOMEPATH': '\\\\Users\\\\mryapss',\n",
       " 'IPY_INTERRUPT_EVENT': '1756',\n",
       " 'JPY_INTERRUPT_EVENT': '1756',\n",
       " 'JPY_PARENT_PID': '1712',\n",
       " 'LOCALAPPDATA': 'C:\\\\Users\\\\mryapss\\\\AppData\\\\Local',\n",
       " 'LOGONSERVER': '\\\\\\\\MRYAP',\n",
       " 'NUMBER_OF_PROCESSORS': '4',\n",
       " 'OS': 'Windows_NT',\n",
       " 'PAGER': 'cat',\n",
       " 'PATH': 'C:\\\\ProgramData\\\\Oracle\\\\Java\\\\javapath;C:\\\\Python27\\\\;C:\\\\Python27\\\\Scripts;C:\\\\Windows\\\\system32;C:\\\\Windows;C:\\\\Windows\\\\System32\\\\Wbem;C:\\\\Windows\\\\System32\\\\WindowsPowerShell\\\\v1.0\\\\;C:\\\\Program Files (x86)\\\\ATI Technologies\\\\ATI.ACE\\\\Core-Static;C:\\\\Users\\\\mryapss\\\\Anaconda2;C:\\\\Users\\\\mryapss\\\\Anaconda2\\\\Scripts;C:\\\\Users\\\\mryapss\\\\Anaconda2\\\\Library\\\\bin;C:\\\\Users\\\\mryapss\\\\Anaconda;C:\\\\Users\\\\mryapss\\\\Anaconda\\\\Scripts',\n",
       " 'PATHEXT': '.COM;.EXE;.BAT;.CMD;.VBS;.VBE;.JS;.JSE;.WSF;.WSH;.MSC',\n",
       " 'PROCESSOR_ARCHITECTURE': 'AMD64',\n",
       " 'PROCESSOR_IDENTIFIER': 'Intel64 Family 6 Model 58 Stepping 9, GenuineIntel',\n",
       " 'PROCESSOR_LEVEL': '6',\n",
       " 'PROCESSOR_REVISION': '3a09',\n",
       " 'PROGRAMDATA': 'C:\\\\ProgramData',\n",
       " 'PROGRAMFILES': 'C:\\\\Program Files',\n",
       " 'PROGRAMFILES(X86)': 'C:\\\\Program Files (x86)',\n",
       " 'PROGRAMW6432': 'C:\\\\Program Files',\n",
       " 'PSMODULEPATH': 'C:\\\\Windows\\\\system32\\\\WindowsPowerShell\\\\v1.0\\\\Modules\\\\',\n",
       " 'PUBLIC': 'C:\\\\Users\\\\Public',\n",
       " 'SESSIONNAME': 'Console',\n",
       " 'SYSTEMDRIVE': 'C:',\n",
       " 'SYSTEMROOT': 'C:\\\\Windows',\n",
       " 'TEMP': 'C:\\\\Users\\\\mryapss\\\\AppData\\\\Local\\\\Temp',\n",
       " 'TERM': 'xterm-color',\n",
       " 'TMP': 'C:\\\\Users\\\\mryapss\\\\AppData\\\\Local\\\\Temp',\n",
       " 'USERDOMAIN': 'mryap',\n",
       " 'USERDOMAIN_ROAMINGPROFILE': 'mryap',\n",
       " 'USERNAME': 'mryapss',\n",
       " 'USERPROFILE': 'C:\\\\Users\\\\mryapss',\n",
       " 'WINDIR': 'C:\\\\Windows'}"
      ]
     },
     "execution_count": 1,
     "metadata": {},
     "output_type": "execute_result"
    }
   ],
   "source": [
    "% env"
   ]
  }
 ],
 "metadata": {
  "kernelspec": {
   "display_name": "Python 2",
   "language": "python",
   "name": "python2"
  },
  "language_info": {
   "codemirror_mode": {
    "name": "ipython",
    "version": 2
   },
   "file_extension": ".py",
   "mimetype": "text/x-python",
   "name": "python",
   "nbconvert_exporter": "python",
   "pygments_lexer": "ipython2",
   "version": "2.7.10"
  }
 },
 "nbformat": 4,
 "nbformat_minor": 0
}
